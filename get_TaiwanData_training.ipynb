{
 "cells": [
  {
   "cell_type": "code",
   "execution_count": 1,
   "metadata": {},
   "outputs": [],
   "source": [
    "import numpy as np\n",
    "import pandas as pd\n",
    "import matplotlib.pyplot as plt\n",
    "import glob\n",
    "import xlrd"
   ]
  },
  {
   "cell_type": "markdown",
   "metadata": {},
   "source": [
    "# pollution"
   ]
  },
  {
   "cell_type": "code",
   "execution_count": 2,
   "metadata": {},
   "outputs": [],
   "source": [
    "targetPattern = \"./pollution/*.csv\"\n",
    "FileName_list = glob.glob(targetPattern)"
   ]
  },
  {
   "cell_type": "code",
   "execution_count": 43,
   "metadata": {},
   "outputs": [],
   "source": [
    "SO2=[]\n",
    "CO=[]\n",
    "O3=[]\n",
    "PM10=[]\n",
    "PM25=[]\n",
    "NO=[]\n",
    "NOx=[]\n",
    "year = []\n",
    "month = []\n",
    "city = []"
   ]
  },
  {
   "cell_type": "code",
   "execution_count": 44,
   "metadata": {},
   "outputs": [],
   "source": [
    "for fna in FileName_list:\n",
    "    try:\n",
    "        df = pd.read_csv(fna)\n",
    "        df_city = df['縣市'].value_counts().index\n",
    "        for c in df_city:\n",
    "            df_n = df[df['縣市']==c]\n",
    "            SO2.append(None)\n",
    "            SO2[-1] = np.mean(df_n[df_n['二氧化硫 SO2 (ppb)']!='-']['二氧化硫 SO2 (ppb)'].astype(float))\n",
    "            CO.append(None)\n",
    "            CO[-1] = np.mean(df_n[df_n['一氧化碳 CO (ppm)']!='-']['一氧化碳 CO (ppm)'].astype(float))\n",
    "            O3.append(None)\n",
    "            O3[-1] = np.mean(df_n[df_n['臭氧 O3 (ppb)']!='-']['臭氧 O3 (ppb)'].astype(float))\n",
    "            PM10.append(None)\n",
    "            PM10[-1] = np.mean(df_n[df_n.iloc[:,9]!='-'].iloc[:,9].astype(float))\n",
    "            PM25.append(None)\n",
    "            PM25[-1] = np.mean(df_n[df_n.iloc[:,10]!='-'].iloc[:,10].astype(float))\n",
    "            NO.append(None)\n",
    "            NO[-1] = np.mean(df_n[df_n['一氧化氮 NO (ppb)']!='-']['一氧化氮 NO (ppb)'].astype(float))\n",
    "            NOx.append(None)\n",
    "            NOx[-1] = np.mean(df_n[df_n['氮氧化物 NOx (ppb)']!='-']['氮氧化物 NOx (ppb)'].astype(float))\n",
    "            year.append(None)\n",
    "            year[-1] = fna[20:24]\n",
    "            month.append(None)\n",
    "            month[-1] = fna[25:27]\n",
    "            city.append(None)\n",
    "            city[-1] = c\n",
    "    except:\n",
    "        SO2_tmp = 0\n",
    "        CO_tmp=0\n",
    "        O3_tmp=0\n",
    "        PM10_tmp=0\n",
    "        PM25_tmp=0\n",
    "        NO_tmp=0\n",
    "        NOx_tmp=0\n",
    "        s = False\n",
    "        n=0\n",
    "        f = open(fna,\"r\",encoding=\"utf-8\")\n",
    "        city_tmp = '臺北市'\n",
    "        for i,line in enumerate(f):\n",
    "\n",
    "            if line[0][0]=='1':\n",
    "                s = True\n",
    "\n",
    "\n",
    "            if s:\n",
    "                try:\n",
    "                    if line.split(',')[1] == city_tmp:\n",
    "                        n+=1\n",
    "                        SO2_tmp+=float(line.split(',')[4])\n",
    "                        CO_tmp+=float(line.split(',')[5])\n",
    "                        O3_tmp+=float(line.split(',')[7])\n",
    "                        PM10_tmp+=float(line.split(',')[9])\n",
    "                        PM25_tmp+=float(line.split(',')[10])\n",
    "                        NO_tmp+=float(line.split(',')[12])\n",
    "                        NOx_tmp+=float(line.split(',')[11])\n",
    "                    else:\n",
    "                        SO2.append(SO2_tmp/n)\n",
    "                        CO.append(CO_tmp/n)\n",
    "                        O3.append(O3_tmp/n)\n",
    "                        PM10.append(PM10_tmp/n)\n",
    "                        PM25.append(PM25_tmp/n)\n",
    "                        NO.append(NO_tmp/n)\n",
    "                        NOx.append(NOx_tmp/n)\n",
    "                        city.append(city_tmp)\n",
    "                        year.append(fna[20:24])\n",
    "                        month.append(fna[25:27])\n",
    "                        city_tmp = line.split(',')[1]\n",
    "\n",
    "                        n=0\n",
    "\n",
    "                except:\n",
    "                    pass  "
   ]
  },
  {
   "cell_type": "code",
   "execution_count": 79,
   "metadata": {
    "scrolled": true
   },
   "outputs": [],
   "source": [
    "x = pd.DataFrame({'city':city, 'year':year, 'month':month, 'SO2':SO2[0:-2], 'CO':CO[0:-2], 'O3':O3[0:-2], 'PM10':PM10[0:-2], 'PM25':PM25[0:-1], 'NO':NO, 'NOx':NOx})"
   ]
  },
  {
   "cell_type": "markdown",
   "metadata": {},
   "source": [
    "# Cancer"
   ]
  },
  {
   "cell_type": "code",
   "execution_count": 77,
   "metadata": {},
   "outputs": [],
   "source": [
    "c_year = ['103', '104', '105', '106', '107']\n",
    "file = f'./cancer/民國{c_year[0]}年縣市別主要癌症.xls'\n",
    "wb = xlrd.open_workbook(filename=file)\n",
    "C=[]\n",
    "C33=[]\n",
    "y_city = []\n",
    "for c2 in df_city:\n",
    "    sheet = wb.sheet_by_name(c2)\n",
    "    C.append(sheet.cell(9,3).value)\n",
    "    C33.append(sheet.cell(10,3).value)\n",
    "    y_city.append(c2)"
   ]
  },
  {
   "cell_type": "markdown",
   "metadata": {},
   "source": [
    "# Normalization"
   ]
  },
  {
   "cell_type": "code",
   "execution_count": 82,
   "metadata": {},
   "outputs": [],
   "source": [
    "y_C = pd.DataFrame({'C':C, 'city':y_city})\n",
    "y_C.C = y_C.C/max(y_C.C)\n",
    "y_C33 = pd.DataFrame({'C33':C33, 'city':y_city})\n",
    "y_C33.C33 = y_C33.C33/max(y_C33.C33)\n",
    "x_ = x.drop(['city','year','month'],axis=1)\n",
    "x_ = (x_ - x_.mean()) / (x_.max() - x_.min())"
   ]
  },
  {
   "cell_type": "markdown",
   "metadata": {},
   "source": [
    "# DNN"
   ]
  },
  {
   "cell_type": "code",
   "execution_count": 92,
   "metadata": {},
   "outputs": [],
   "source": [
    "import tensorflow as tf\n",
    "from tensorflow.contrib.layers import fully_connected"
   ]
  },
  {
   "cell_type": "code",
   "execution_count": 96,
   "metadata": {},
   "outputs": [],
   "source": [
    "\n",
    "# Placeholder\n",
    "num_inputs = 7 # pollution\n",
    "x_input = tf.placeholder(tf.float32, shape=[None, num_inputs])\n",
    "y_input = tf.placeholder(tf.float32, shape=[None, 1])\n",
    "learning_rate = 0.01\n",
    "\n",
    "# layer\n",
    "hidden_1 = fully_connected(x_input, 20, activation_fn=tf.nn.relu)\n",
    "hidden_2 = fully_connected(hidden_1, 40, activation_fn=tf.nn.relu)\n",
    "y_output = fully_connected(hidden_2, 1, activation_fn=tf.nn.relu)\n",
    "\n",
    "# loss function\n",
    "loss = tf.reduce_mean(tf.square(y_output - y_input))\n",
    "\n",
    "# optimizer\n",
    "optimizer = tf.train.AdamOptimizer(learning_rate)\n",
    "train  = optimizer.minimize(loss)\n",
    "\n",
    "# init\n",
    "init = tf.global_variables_initializer()"
   ]
  },
  {
   "cell_type": "code",
   "execution_count": null,
   "metadata": {},
   "outputs": [],
   "source": [
    "num_steps = 1000\n",
    "with tf.Session() as sess:\n",
    "    sess.run(init)\n",
    "    for iteration in range(num_steps):\n",
    "        sess.run(train,feed_dict={x_input: x_, y_input:y_})\n",
    "        if iteration % 100 ==0:\n",
    "            print()"
   ]
  },
  {
   "cell_type": "code",
   "execution_count": null,
   "metadata": {},
   "outputs": [],
   "source": []
  },
  {
   "cell_type": "code",
   "execution_count": 111,
   "metadata": {},
   "outputs": [],
   "source": []
  },
  {
   "cell_type": "code",
   "execution_count": null,
   "metadata": {},
   "outputs": [],
   "source": []
  },
  {
   "cell_type": "code",
   "execution_count": null,
   "metadata": {},
   "outputs": [],
   "source": []
  }
 ],
 "metadata": {
  "kernelspec": {
   "display_name": "Python 3",
   "language": "python",
   "name": "python3"
  },
  "language_info": {
   "codemirror_mode": {
    "name": "ipython",
    "version": 3
   },
   "file_extension": ".py",
   "mimetype": "text/x-python",
   "name": "python",
   "nbconvert_exporter": "python",
   "pygments_lexer": "ipython3",
   "version": "3.6.8"
  }
 },
 "nbformat": 4,
 "nbformat_minor": 2
}
